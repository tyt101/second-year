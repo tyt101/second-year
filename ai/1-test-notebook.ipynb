{
 "cells": [
  {
   "cell_type": "code",
   "execution_count": 3,
   "metadata": {},
   "outputs": [
    {
     "name": "stdout",
     "output_type": "stream",
     "text": [
      "Ollama client initialized. Here's one:\n",
      "\n",
      "Why don't eggs tell jokes?\n",
      "\n",
      "Because they'd crack each other up! 😄\n",
      "\n",
      "How was that? Do you want to hear another one? 🤔\n",
      "Making API request...\n",
      "The translation of \"I love programming\" into German is:\n",
      "\n",
      "\"Ich liebe Programmieren\"\n",
      "\n",
      "Here's a breakdown of the translation:\n",
      "\n",
      "* \"I\" remains unchanged, as it's a pronoun that doesn't have an equivalent in German.\n",
      "* \"love\" translates to \"liebe\", which means love or affection.\n",
      "* \"programming\" translates to \"Programmieren\", which is the verb form of \"programmierung\", meaning programming.\n",
      "\n",
      "So, the whole phrase \"Ich liebe Programmieren\" conveys the same sentiment as the original English sentence!\n",
      "API response received.\n"
     ]
    }
   ],
   "source": [
    "\n",
    "import { Ollama } from \"@langchain/community/llms/ollama\";\n",
    "\n",
    "// console.log('Initializing Ollama client...');\n",
    "const ollama = new Ollama({\n",
    "  baseUrl: \"http://localhost:11434\", // Default value\n",
    "  model: \"llama3\", // Default value\n",
    "});\n",
    "const res = await ollama.invoke(\"讲个笑话\")\n",
    "console.log('Ollama client initialized.', res);\n",
    "console.log('Making API request...');\n",
    "const stream = await ollama.stream(\n",
    "  `Translate \"I love programming\" into German.`\n",
    ");\n",
    "\n",
    "const chunks = [];\n",
    "for await (const chunk of stream) {\n",
    "  chunks.push(chunk);\n",
    "}\n",
    "\n",
    "console.log(chunks.join(\"\"));\n",
    "console.log('API response received.');\n"
   ]
  }
 ],
 "metadata": {
  "kernelspec": {
   "display_name": "Deno",
   "language": "typescript",
   "name": "deno"
  },
  "language_info": {
   "file_extension": ".ts",
   "mimetype": "text/x.typescript",
   "name": "typescript",
   "nb_converter": "script",
   "pygments_lexer": "typescript",
   "version": "5.4.5"
  }
 },
 "nbformat": 4,
 "nbformat_minor": 2
}
